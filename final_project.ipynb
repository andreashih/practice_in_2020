{
 "cells": [
  {
   "cell_type": "code",
   "execution_count": 36,
   "metadata": {},
   "outputs": [],
   "source": [
    "import os\n",
    "import docx\n",
    "from docx import Document\n",
    "import re\n",
    "import shutil\n",
    "from shutil import copyfile"
   ]
  },
  {
   "cell_type": "code",
   "execution_count": 37,
   "metadata": {},
   "outputs": [
    {
     "data": {
      "text/plain": [
       "'C:\\\\Users\\\\user\\\\Desktop\\\\doc_files'"
      ]
     },
     "execution_count": 37,
     "metadata": {},
     "output_type": "execute_result"
    }
   ],
   "source": [
    "pwd"
   ]
  },
  {
   "cell_type": "code",
   "execution_count": 38,
   "metadata": {},
   "outputs": [],
   "source": [
    "# Change directory\n",
    "os.chdir(r'C:\\\\Users\\\\user\\\\Desktop\\\\doc_files')"
   ]
  },
  {
   "cell_type": "code",
   "execution_count": 65,
   "metadata": {},
   "outputs": [
    {
     "data": {
      "text/plain": [
       "'C:\\\\Users\\\\user\\\\Desktop\\\\doc_files'"
      ]
     },
     "execution_count": 65,
     "metadata": {},
     "output_type": "execute_result"
    }
   ],
   "source": [
    "pwd"
   ]
  },
  {
   "cell_type": "code",
   "execution_count": 66,
   "metadata": {},
   "outputs": [
    {
     "data": {
      "text/plain": [
       "False"
      ]
     },
     "execution_count": 66,
     "metadata": {},
     "output_type": "execute_result"
    }
   ],
   "source": [
    "os.path.exists(r'C:\\Users\\user\\Desktop\\doc_fles')"
   ]
  },
  {
   "cell_type": "code",
   "execution_count": 67,
   "metadata": {},
   "outputs": [],
   "source": [
    "# A function that extracts files that match the pattern\n",
    "def search_file(filename, pattern):\n",
    "    doc = docx.Document(filename)\n",
    "    text = []\n",
    "    for para in doc.paragraphs:\n",
    "        text.append(para.text)\n",
    "    if re.findall(pattern, str(text)) != []:\n",
    "        return filename\n",
    "    else:\n",
    "        return 0"
   ]
  },
  {
   "cell_type": "code",
   "execution_count": 68,
   "metadata": {},
   "outputs": [],
   "source": [
    "# Search docx files with content matching particular pattern\n",
    "pattern = r'臺北'\n",
    "matched_files = []\n",
    "for file in os.listdir():\n",
    "    if not file.endswith('.docx'): continue\n",
    "    x = search_file(file, pattern)\n",
    "    if x != 0:\n",
    "        matched_files.append(x)"
   ]
  },
  {
   "cell_type": "code",
   "execution_count": 69,
   "metadata": {},
   "outputs": [],
   "source": [
    "# Extract matched files path\n",
    "matched_files_paths = []\n",
    "for matched_file in matched_files:\n",
    "    path = f\"\\\\Users\\\\user\\\\Desktop\\\\doc_files\\\\{matched_file}\"\n",
    "    matched_files_paths.append(path)"
   ]
  },
  {
   "cell_type": "code",
   "execution_count": 70,
   "metadata": {},
   "outputs": [],
   "source": [
    "# A function that manipulate files (move, copy, or delete)\n",
    "def file_manipulate(mode, matched_file_path, to):\n",
    "    if mode == 'move':\n",
    "        shutil.move(matched_file_path, to)\n",
    "    elif mode == 'copy':\n",
    "        shutil.copy(matched_file_path, to)\n",
    "    elif mode == 'delete':\n",
    "        os.remove(matched_file_path)        \n",
    "    else:\n",
    "        return 'no such mode'"
   ]
  },
  {
   "cell_type": "code",
   "execution_count": 78,
   "metadata": {},
   "outputs": [
    {
     "name": "stdout",
     "output_type": "stream",
     "text": [
      "move, copy, or delete?34\n",
      "Please provide file path\\Users\\user\\Desktop\\new_doc_files\n",
      "Warning: Invalid mode\n"
     ]
    }
   ],
   "source": [
    "# Manipulate matched files\n",
    "mode = input(\"move, copy, or delete?\")\n",
    "to = input(\"Please provide file path\")\n",
    "#mode = 'copy'\n",
    "#to = '\\Users\\user\\Desktop\\new_doc_files'\n",
    "\n",
    "if mode not in ['move','copy', 'delete']:\n",
    "    print('Warning: Invalid mode')\n",
    "else:\n",
    "    for matched_file_path in matched_files_paths:\n",
    "        file_manipulate(mode, matched_file_path, to)    "
   ]
  },
  {
   "cell_type": "code",
   "execution_count": null,
   "metadata": {},
   "outputs": [],
   "source": []
  }
 ],
 "metadata": {
  "kernelspec": {
   "display_name": "Python 3",
   "language": "python",
   "name": "python3"
  },
  "language_info": {
   "codemirror_mode": {
    "name": "ipython",
    "version": 3
   },
   "file_extension": ".py",
   "mimetype": "text/x-python",
   "name": "python",
   "nbconvert_exporter": "python",
   "pygments_lexer": "ipython3",
   "version": "3.7.4"
  }
 },
 "nbformat": 4,
 "nbformat_minor": 2
}
