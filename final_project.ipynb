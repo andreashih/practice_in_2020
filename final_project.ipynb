{
 "cells": [
  {
   "cell_type": "markdown",
   "metadata": {},
   "source": [
    "## Search and manipulate .docx files"
   ]
  },
  {
   "cell_type": "code",
   "execution_count": 1,
   "metadata": {},
   "outputs": [],
   "source": [
    "import os\n",
    "import docx\n",
    "from docx import Document\n",
    "import re\n",
    "import shutil\n",
    "from shutil import copyfile"
   ]
  },
  {
   "cell_type": "code",
   "execution_count": 2,
   "metadata": {},
   "outputs": [
    {
     "data": {
      "text/plain": [
       "'C:\\\\Users\\\\user\\\\Desktop\\\\practice_in_2020'"
      ]
     },
     "execution_count": 2,
     "metadata": {},
     "output_type": "execute_result"
    }
   ],
   "source": [
    "pwd"
   ]
  },
  {
   "cell_type": "code",
   "execution_count": 3,
   "metadata": {},
   "outputs": [],
   "source": [
    "# Change current working directory\n",
    "os.chdir(r'C:\\\\Users\\\\user\\\\Desktop\\\\doc_files')"
   ]
  },
  {
   "cell_type": "code",
   "execution_count": 4,
   "metadata": {},
   "outputs": [
    {
     "data": {
      "text/plain": [
       "'C:\\\\Users\\\\user\\\\Desktop\\\\doc_files'"
      ]
     },
     "execution_count": 4,
     "metadata": {},
     "output_type": "execute_result"
    }
   ],
   "source": [
    "pwd"
   ]
  },
  {
   "cell_type": "code",
   "execution_count": 5,
   "metadata": {},
   "outputs": [],
   "source": [
    "# A function that extracts files that match the pattern\n",
    "def search_file(filename, pattern):\n",
    "    doc = docx.Document(filename)\n",
    "    text = []\n",
    "    for para in doc.paragraphs:\n",
    "        text.append(para.text)\n",
    "    if re.findall(pattern, str(text)) != []:\n",
    "        return filename\n",
    "    else:\n",
    "        return 0"
   ]
  },
  {
   "cell_type": "code",
   "execution_count": 15,
   "metadata": {},
   "outputs": [
    {
     "name": "stdout",
     "output_type": "stream",
     "text": [
      "Please enter the keyword臺北\n"
     ]
    }
   ],
   "source": [
    "# Search docx files with content matching particular pattern\n",
    "# Search for companies that are in Taipei\n",
    "pattern = input('Please enter the keyword')\n",
    "#pattern = '臺北'\n",
    "matched_files = []\n",
    "for file in os.listdir():\n",
    "    if not file.endswith('.docx'): continue\n",
    "    x = search_file(file, pattern)\n",
    "    if x != 0:\n",
    "        matched_files.append(x)"
   ]
  },
  {
   "cell_type": "code",
   "execution_count": 16,
   "metadata": {},
   "outputs": [],
   "source": [
    "# Extract matched files path\n",
    "matched_files_paths = []\n",
    "for matched_file in matched_files:\n",
    "    path = f\"\\\\Users\\\\user\\\\Desktop\\\\doc_files\\\\{matched_file}\"\n",
    "    matched_files_paths.append(path)"
   ]
  },
  {
   "cell_type": "code",
   "execution_count": 17,
   "metadata": {},
   "outputs": [],
   "source": [
    "# A function that manipulates files (move, copy, or delete)\n",
    "def file_manipulate(mode, matched_file_path, to):\n",
    "    if mode == 'move':\n",
    "        shutil.move(matched_file_path, to)\n",
    "    elif mode == 'copy':\n",
    "        shutil.copy(matched_file_path, to)\n",
    "    elif mode == 'delete':\n",
    "        os.remove(matched_file_path)        \n",
    "    else:\n",
    "        return 'no such mode'"
   ]
  },
  {
   "cell_type": "code",
   "execution_count": 18,
   "metadata": {},
   "outputs": [
    {
     "name": "stdout",
     "output_type": "stream",
     "text": [
      "move, copy, or delete?copy\n",
      "Please provide the file path\\Users\\user\\Desktop\\new_doc_files\n"
     ]
    }
   ],
   "source": [
    "# Manipulate matched files\n",
    "mode = input(\"move, copy, or delete?\")\n",
    "to = input(\"Please provide the file path\")\n",
    "#mode = 'copy'\n",
    "#to = '\\Users\\user\\Desktop\\new_doc_files'\n",
    "\n",
    "if mode not in ['move','copy', 'delete']:\n",
    "    print('Warning: Invalid mode')\n",
    "else:\n",
    "    for matched_file_path in matched_files_paths:\n",
    "        file_manipulate(mode, matched_file_path, to)    "
   ]
  },
  {
   "cell_type": "code",
   "execution_count": 19,
   "metadata": {},
   "outputs": [],
   "source": [
    "# Change current working directory\n",
    "os.chdir(r'C:\\\\Users\\\\user\\\\Desktop\\\\new_doc_files')"
   ]
  },
  {
   "cell_type": "code",
   "execution_count": 20,
   "metadata": {},
   "outputs": [],
   "source": [
    "# A function that gets text in files\n",
    "def get_text(filename):\n",
    "    doc = docx.Document(filename)\n",
    "    text = []\n",
    "    for para in doc.paragraphs:\n",
    "        text.append(para.text)\n",
    "    return '_'.join(text) "
   ]
  },
  {
   "cell_type": "code",
   "execution_count": 21,
   "metadata": {},
   "outputs": [],
   "source": [
    "# Get all company names\n",
    "company_names = []\n",
    "for matched_file in matched_files:\n",
    "    pat = re.compile(r\"(?<=公司名稱)(\\t+\\w+)(?=章程)\")\n",
    "    result = pat.search(get_text(matched_file))\n",
    "    company_name = result.group(0).replace('\\t', '')\n",
    "    company_names.append(company_name)"
   ]
  },
  {
   "cell_type": "code",
   "execution_count": 22,
   "metadata": {},
   "outputs": [],
   "source": [
    "# Get all director names\n",
    "director_names = []\n",
    "for matched_file in matched_files:\n",
    "    pat = re.compile(r\"(?<=代表人姓名)(\\t+\\w+)(?=_)\")\n",
    "    result = pat.search(get_text(matched_file))\n",
    "    director_name = result.group(0).replace('\\t', '')\n",
    "    director_names.append(director_name)"
   ]
  },
  {
   "cell_type": "markdown",
   "metadata": {},
   "source": [
    "## Make invitation card"
   ]
  },
  {
   "cell_type": "code",
   "execution_count": 23,
   "metadata": {},
   "outputs": [],
   "source": [
    "from docx.oxml.ns import qn\n",
    "from docx.shared import Pt\n",
    "icf = docx.Document('invitation_card.docx')"
   ]
  },
  {
   "cell_type": "code",
   "execution_count": 24,
   "metadata": {},
   "outputs": [],
   "source": [
    "def get_para_data(output_doc_name, paragraph):\n",
    "    output_para = output_doc_name.add_paragraph()\n",
    "    for run in paragraph.runs:\n",
    "        output_run = output_para.add_run(run.text)\n",
    "        output_run.bold = run.bold\n",
    "        output_run.italic = run.italic\n",
    "        output_run.font.name = '標楷體'\n",
    "        output_run._element.rPr.rFonts.set(qn('w:eastAsia'), u'標楷體')\n",
    "        output_run.font.size = run.font.size\n",
    "        output_run.underline = run.underline\n",
    "    output_para.paragraph_format.alignment = paragraph.paragraph_format.alignment"
   ]
  },
  {
   "cell_type": "code",
   "execution_count": 25,
   "metadata": {},
   "outputs": [],
   "source": [
    "def output(icf_docx,name,company):\n",
    "    output_doc = Document()\n",
    "    for para in icf.paragraphs:\n",
    "        get_para_data(output_doc, para)\n",
    "    a = [\"１１１\"]\n",
    "    for i in a:\n",
    "        for p in output_doc.paragraphs:\n",
    "            if p.text.find(i)>=0:\n",
    "                p.text=p.text.replace(i,name)\n",
    "    b = [\"２２２\"]\n",
    "    for i in b:\n",
    "        for p in output_doc.paragraphs:\n",
    "            if p.text.find(i)>=0:\n",
    "                p.text=p.text.replace(i,company)\n",
    "    for i,paragraph in enumerate(output_doc.paragraphs):\n",
    "        if i==5 or i==6:\n",
    "            for run in paragraph.runs:\n",
    "                run.font.name = '標楷體'\n",
    "                run._element.rPr.rFonts.set(qn('w:eastAsia'), u'標楷體')\n",
    "                run.font.size = Pt(22)\n",
    "    return output_doc.save(str(j)+'_OutputDoc.docx')"
   ]
  },
  {
   "cell_type": "code",
   "execution_count": 26,
   "metadata": {},
   "outputs": [],
   "source": [
    "for j in range(0,len(company_names)):\n",
    "    output(icf,director_names[j],company_names[j])"
   ]
  }
 ],
 "metadata": {
  "kernelspec": {
   "display_name": "Python 3",
   "language": "python",
   "name": "python3"
  },
  "language_info": {
   "codemirror_mode": {
    "name": "ipython",
    "version": 3
   },
   "file_extension": ".py",
   "mimetype": "text/x-python",
   "name": "python",
   "nbconvert_exporter": "python",
   "pygments_lexer": "ipython3",
   "version": "3.7.4"
  }
 },
 "nbformat": 4,
 "nbformat_minor": 2
}
