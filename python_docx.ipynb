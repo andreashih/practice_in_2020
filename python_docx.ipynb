{
 "cells": [
  {
   "cell_type": "code",
   "execution_count": 43,
   "metadata": {},
   "outputs": [
    {
     "data": {
      "text/plain": [
       "'C:\\\\Users\\\\user\\\\Desktop\\\\practice_in_2020'"
      ]
     },
     "execution_count": 43,
     "metadata": {},
     "output_type": "execute_result"
    }
   ],
   "source": [
    "import os\n",
    "os.getcwd()"
   ]
  },
  {
   "cell_type": "markdown",
   "metadata": {},
   "source": [
    "讀檔"
   ]
  },
  {
   "cell_type": "code",
   "execution_count": 51,
   "metadata": {},
   "outputs": [],
   "source": [
    "import docx\n",
    "doc = docx.Document('elicitation.docx')"
   ]
  },
  {
   "cell_type": "markdown",
   "metadata": {},
   "source": [
    "paragraph 總長度"
   ]
  },
  {
   "cell_type": "code",
   "execution_count": 52,
   "metadata": {},
   "outputs": [
    {
     "data": {
      "text/plain": [
       "253"
      ]
     },
     "execution_count": 52,
     "metadata": {},
     "output_type": "execute_result"
    }
   ],
   "source": [
    "len(doc.paragraphs)"
   ]
  },
  {
   "cell_type": "markdown",
   "metadata": {},
   "source": [
    "paragraph 內文"
   ]
  },
  {
   "cell_type": "code",
   "execution_count": 53,
   "metadata": {},
   "outputs": [
    {
     "data": {
      "text/plain": [
       "'kay Kui wabai ki Balenge ku ngilralredrekeini ku bengelray'"
      ]
     },
     "execution_count": 53,
     "metadata": {},
     "output_type": "execute_result"
    }
   ],
   "source": [
    "doc.paragraphs[9].text"
   ]
  },
  {
   "cell_type": "markdown",
   "metadata": {},
   "source": [
    "If the structure (e.g. italic, bold, underlined...) of sentence remains the same then it is called as \"one Run\"."
   ]
  },
  {
   "cell_type": "code",
   "execution_count": 47,
   "metadata": {},
   "outputs": [
    {
     "data": {
      "text/plain": [
       "[<docx.text.run.Run at 0x17df8caf7c8>,\n",
       " <docx.text.run.Run at 0x17df8cafe48>,\n",
       " <docx.text.run.Run at 0x17df8caf948>,\n",
       " <docx.text.run.Run at 0x17df8cafa88>,\n",
       " <docx.text.run.Run at 0x17df8caf448>,\n",
       " <docx.text.run.Run at 0x17df8caf688>,\n",
       " <docx.text.run.Run at 0x17df8caffc8>,\n",
       " <docx.text.run.Run at 0x17df8caf108>,\n",
       " <docx.text.run.Run at 0x17df8caf708>,\n",
       " <docx.text.run.Run at 0x17df8cafc88>,\n",
       " <docx.text.run.Run at 0x17df8cafd08>,\n",
       " <docx.text.run.Run at 0x17df8cafbc8>,\n",
       " <docx.text.run.Run at 0x17df8caf508>,\n",
       " <docx.text.run.Run at 0x17df8caf188>,\n",
       " <docx.text.run.Run at 0x17df8caf488>,\n",
       " <docx.text.run.Run at 0x17df8caf208>]"
      ]
     },
     "execution_count": 47,
     "metadata": {},
     "output_type": "execute_result"
    }
   ],
   "source": [
    "doc.paragraphs[9].runs"
   ]
  },
  {
   "cell_type": "code",
   "execution_count": 54,
   "metadata": {},
   "outputs": [
    {
     "data": {
      "text/plain": [
       "16"
      ]
     },
     "execution_count": 54,
     "metadata": {},
     "output_type": "execute_result"
    }
   ],
   "source": [
    "len(doc.paragraphs[9].runs)"
   ]
  },
  {
   "cell_type": "code",
   "execution_count": 48,
   "metadata": {},
   "outputs": [
    {
     "data": {
      "text/plain": [
       "'kay '"
      ]
     },
     "execution_count": 48,
     "metadata": {},
     "output_type": "execute_result"
    }
   ],
   "source": [
    "doc.paragraphs[9].runs[0].text"
   ]
  },
  {
   "cell_type": "code",
   "execution_count": 56,
   "metadata": {},
   "outputs": [
    {
     "name": "stdout",
     "output_type": "stream",
     "text": [
      "kay \n",
      "Kui\n",
      " \n",
      "wabai\n",
      " \n",
      "ki\n",
      " \n",
      "Balenge\n",
      " \n",
      "ku\n",
      " \n",
      "ngilralredrekeini\n",
      " \n",
      "ku\n",
      " \n",
      "bengelray\n"
     ]
    }
   ],
   "source": [
    "single_para = doc.paragraphs[9]\n",
    "for run in single_para.runs:\n",
    "    print(run.text)"
   ]
  },
  {
   "cell_type": "markdown",
   "metadata": {},
   "source": [
    "可以讀內文的函數"
   ]
  },
  {
   "cell_type": "code",
   "execution_count": 75,
   "metadata": {},
   "outputs": [],
   "source": [
    "def gettext(filename):\n",
    "    doc = docx.Document(filename)\n",
    "    text = []\n",
    "    for para in doc.paragraphs:\n",
    "        text.append(para.text)\n",
    "    return '\\n'.join(text) \n",
    "    #return text"
   ]
  },
  {
   "cell_type": "code",
   "execution_count": 76,
   "metadata": {},
   "outputs": [
    {
     "data": {
      "text/plain": [
       "'Filename: 20200429\\nLanguage: Rukai\\nDialect: Budai Rukai\\nSpeaker: Legeane, 柯菊華, F, 1961/06\\nCollected: 2020-04-29\\nRevised:\\nTranscribed by: 石晴方\\n\\n1.\\nkay Kui wabai ki Balenge ku ngilralredrekeini ku bengelray\\nkay\\tKui\\tw-a-bai\\tki\\tBalenge\\tku\\tngilra-lredreke-ini\\tku\\tbengelray\\nthis\\tKui\\tA-RES-give\\tBalenge\\tOBL\\tself-plant-3SG.POSS\\tOBL\\tflower\\n這個\\tKui\\t主-實現-給\\tBalenge\\t斜格\\t自己--種-他.所有格\\t斜格\\t花\\n\\n#e This Kui gave Balenge the flower he planted.\\n#c 這個 Kui 送 balenge 他自己種的花\\n#n \\n\\n2.\\nkay Kui wabai ki Balenge ku bengelray ku ngilralredrekeini\\nkay\\tKui\\tw-a-bai\\tki\\tBalenge\\tku\\tbengelray\\tku\\t\\nthis\\tKui\\tA-RES-give\\tBalenge\\tOBL\\tflower\\t\\tOBL\\n這個\\tKui\\t主-實現-給\\tBalenge\\t斜格\\t花\\t\\t斜格\\n\\nngilra-lredreke-ini \\nself-plant-3SG.POSS\\n自己--種-他.所有格\\n\\n#e This Kui gave Balenge the flower he planted.\\n#c 這個 Kui 送 balenge 他自己種的花\\n#n 語序調換\\n\\n3.\\nngialralrumaiaku\\nngialra-lrumai-aku\\nself-hit-1SG.NOM\\n自己-打-我.主格\\n\\n#e I hit myself.\\n#c自己打自己\\n#n\\n\\n4.\\nkay alualu ki Lavakaw makakalra ki Muni\\nkay\\talualu\\tki\\tLavakaw\\tma-kalra-kalra\\t\\tki\\tMuni\\nthis\\tcandy\\tGEN\\tLavakaw\\tmany-RED-many\\tOBL\\tMuni\\n這個\\t糖果\\t屬格\\tLavakaw\\t多-重複-多\\t\\t斜格\\tMuni\\n\\n#e Lavakaw’s candies are more than Muni’s.\\n#c Lavakaw 的糖果比 Muni 的還多\\n#n Makarla 多；Makakarla 更多\\n\\n5.\\nwaelrebe ka lrawlrawdru anikamani waelrebe ka sinsi\\nw-a-elrebe\\tka\\tlrawlrawdru\\tanikamani\\tw-a-elrebe\\tka\\tsinsi\\nA-RES-close\\tOBL\\tdoor\\t\\tbecause\\t\\tA-RES-close\\tOBL\\tteacher\\n主-實現-關\\t斜格\\t門\\t\\t因為\\t\\t主-實現-關\\t斜格\\t老師\\n\\n#e The door was closed because the teacher closed the door.\\n#c 門關上了，因為老師關上了門\\n#n\\n\\n6.\\nngiaelrebe ka lrawlrawdru anikamani waelrebe ka sinsi\\nngi-a-elrebe\\t\\tka\\tlrawlrawdru\\tanikamani\\tw-a-elrebe\\tka\\tsinsi\\nself-RES-close\\t\\tOBL\\tdoor\\t\\tbecause\\t\\tA-RES-close\\tOBL\\tteacher\\n自己-實現-關\\t\\t斜格\\t門\\t\\t因為\\t\\t主-實現-關\\t斜格\\t老師\\n\\n#e The door was closed by itself because the teacher closed the door.\\n#c 門自己關了，因為老師關上了門\\n#n\\n\\n7.\\naisi lu kainaw pangimia kay fulici lrikiemengaku\\naisi\\tlu\\tkainaw\\t\\tpangimia\\tkay\\thulici\\tlri-ki-emenge-aku\\nif\\tif\\tdoes not\\tobey\\t\\tthis\\tlaw\\tFUT-PASS-confine-1SG.NOM\\n如果\\t如果\\t不行\\t\\t遵守\\t\\t這個\\t法律\\t未來-被動-關-我.主格\\n\\n#e If I did not obey this law, I will be confined.\\n#c 如果我沒有遵守這個法律，我就會被關\\n#n emengenga 把動物/人關在家裡，不同於關門窗的關；kai 與 naw 都是「不行」；此句的 kay 可以換成 ki，但不能換成 ku \\n\\n8.\\nmatha senasenay kikay kikay\\nmatha\\tsenay-senay\\tkikay\\tkikay\\ndo not\\tRED-sing\\there\\there\\n不要 \\t重複-唱歌\\t這邊\\t這邊\\n\\n#e Do not sing here.\\n#c 不要在這裡唱歌 \\n#n wasenasenay 正在唱歌；* kainaw senasenay kikay kikay\\n\\n9.\\nwasenasenay kay lasitu kikay kikay\\nw-a-senay-senay\\tkay\\tla-situ\\t\\tkikay\\tkikay\\nA-RES-RED-sing\\tthese\\tPL-student\\there\\there\\n主-實現-重複-唱歌\\t這些\\t複數-學生\\t這裡\\t這裡\\n\\n#e These students are singing here.\\n#c 這些學生們都在這裡唱歌\\n#n\\t\\n\\n10.\\nkay Laucu maelrelrengenga ki lapapalraini\\nkay\\tLaucu\\tma-elrenge-elrenge-nga\\t\\tki\\tla-papalra-ini\\nthis\\tLaucu\\tCOND-RED-tall-COMPL\\tOBL\\tPL-peer-3SG.POSS\\n這個\\tLaucu\\t狀態-重複-高-完成\\t\\t斜格\\t複數-同伴-他.所有格\\n\\n#e This Laucu is the tallest person among his peers.\\n#c Laucu 是班上最高的人\\n#n maelrenge 很高；ma-elr-elrenge 最高；-nga 確定他最高。阿美語和魯凱語會用拉長音 (lengthening) 表強調，因此此處的 elrenge 第二音節會拉長。\\n\\n11.\\nluiya kay Laucu lrikamaelrelrenga ki lapapalraini \\nluiya\\t\\tkay\\tLaucu\\tlrika-ma-elrenge-elrenge-nga\\t\\tki\\tla-papalra-ini\\ntomorrow\\tthis\\tLaucu\\tFUT-COND-RED-tall-COMPL\\t\\tOBL\\tPL-peer-3SG.POSS\\n明天\\t\\t這個\\tLaucu\\t未來-狀態-重複-高-完成\\t\\t斜格\\t複數-同伴-他.所有格\\n\\n#e This Laucu will be the tallest person among his peers.\\n#c 明天這 Laucu 將會比他所有同學更高\\n#n\\n\\n12.\\nkay Laucu ludrelane lukabibilrili lrikamaelrelrenga ki lapapalraini\\nkay\\tLaucu\\tludrelane\\tluka-bibilrili\\tlrika-ma-elrenge-elrenge-nga\\t\\tki\\t\\nthis\\tLaucu\\tseem\\t\\twhen-future\\tFUT-COND-RED-tall-COMPL\\t\\tOBL\\n這個\\tLaucu\\t看起來\\t\\t當-未來\\t未來-狀態-重複-高-完成\\t\\t斜格\\n\\nla-papalra-ini\\nPL-peer-3SG.POSS\\n複數-同伴-他.所有格\\n\\n#e It seems that Laucu will be the tallest person among his peers.\\n#c Laucu 看起來以後會是班上最高的那位\\n#n lrikaamani 將來一定 (一定會選上/一定會娶到她) liaamani 將來應該\\n\\n13.\\nwapacai ka Laucu anikamani kiapapacai ki Tanebake\\nw-a-pacai\\tka\\tLaucu\\tanikamani\\tkia-pacai-pacai\\t\\tki\\tTanebake\\nA-RES-die\\tOBL\\tLaucu\\tbecause\\t\\tPASS-RED-die\\t\\tOBL\\tTanebake\\n主-實現-死\\t斜格\\tLaucu\\t因為\\t\\t被動-重複-死\\t\\t斜格\\tTanebake\\n\\n#e Laucu died because he was killed by Tanebake.\\n#c Laucu 死了，因為被 Tanebake 打死\\n#n \\n\\n14.\\nwapacainga ka Laucu anikamani kiapapacai ki Tanebake\\nw-a-pacai-nga\\t\\tka\\tLaucu\\tanikamani\\tkia-pa-pacai\\t\\tki\\tTanebake\\nA-RES-die-COMPL\\tOBL\\tLaucu\\tbecause\\t\\tPASS-RED-die\\t\\tOBL\\tTanebake\\n主-實現-死-完成\\t斜格\\tLaucu\\t因為\\t\\t被動-重複-死\\t\\t斜格\\tTanebake\\n\\n#e Laucu had died because he was killed by Tanebake.\\n#c Laucu 死了，因為被 Tanebake 打死\\n#n -nga 強調已經死了；ngiapapacai 自殺\\n\\n15.\\nngiapapacai ka Laucu\\nngia-pacai-pacai\\tka\\tLaucu\\nself-RED-die\\t\\tNOM\\tLaucu\\n自己-重複-死\\t\\t主格\\tLaucu\\n\\n#e Laucu hit himself to death.\\n#c Laucu 自己打死自己\\n#n\\n\\n16.\\nngiakakamani ngia-pa-pacai kay laucu \\nngiakakamani\\t\\tngia-pacai-pacai\\tkay\\tLaucu \\nwillingly\\t\\tself-RED-die\\t\\tthis\\tLaucu\\n自願\\t\\t\\t自己-重複-死\\t\\t這個\\tLaucu\\n\\n#e Laucu hit himself to death willingly.\\n#c Laucu 自己自願打死自己\\n#n\\n\\n17.\\nngiakakamani kay Laucu ngiapapacai \\nngiakakamani\\t\\tkay\\tLaucu\\tngia-pa-pacai\\nwillingly\\t\\tthis\\tLaucu\\tself-RED-die\\n自願\\t\\t\\t這個\\tLaucu\\t自己-重複-死\\n\\n#e Laucu hit himself to death willingly.\\n#c Laucu 自己自願打死自己\\n#n\\n\\n18.\\nkay Laucu ngiapapacai ngiakakamani\\nkay\\tLaucu\\tngia-pacai-pacai\\tngiakakamani\\nthis\\tLaucu\\tself-RED-die\\t\\twillingly\\n這個\\tLaucu\\t自己-重複-打\\t\\t自願\\n\\n#e Laucu hit himself to death willingly.\\n#c Laucu 自己自願打死自己\\n#n\\n\\n19.\\nkainaw wathingale anipacai ka Laucu\\nkainaw\\t\\tw-a-thingale\\tani-pacai\\tka\\tLaucu\\ndo not\\t\\tA-RES-know\\twhy-die\\tNOM\\tLaucu\\n不\\t\\t主-實現-知道\\t為什麼-死\\t主格\\tLaucu\\n\\n#e Do not know why Laucu dies.\\n#c 不知道 Laucu 怎麼死了\\n#n\\n\\n20.\\nkaisu wathingale anipacai kay Laucu \\nkai-su\\t\\t\\tw-a-thingale\\tani-pacai\\tkay\\tLaucu\\ndo not-2SG.NOM\\tA-RES-know\\twhy-die\\tthis\\tLaucu\\n不-你.主格\\t\\t主-實現-知道\\t為什麼-死\\t這個\\tLaucu\\n\\n#e You do not know why Laucu dies.\\n#c 你不知道 Laucu 怎麼死了\\n#n\\n\\n21.\\nkaisu wathingale kay Laucu anipacai\\nkai-su\\t\\t\\tw-a-thingale\\tkay\\tLaucu\\tani-pacai\\ndo not-2SG.NOM\\tA-RES-know\\tthis\\tLaucu\\twhy-die\\n不-你.主格\\t\\t主-實現-知道\\t這個\\tLaucu\\t為什麼-死\\n\\n#e You do not know why Laucu dies.\\n#c 你不知道 Laucu 怎麼死了\\n#n\\n\\n22.\\nkay Kaku amiya-kay makucingalre turamuru kay tarasaibaibange\\nkay\\tKaku\\tamiya-kay\\tma-kucingalre\\t\\tturamuru\\t\\nthis\\tKaku\\tsay-this\\t\\tvery-important\\t\\tvery\\n這個\\tKaku\\t說-這個\\t非常-重要\\t\\t非常\\n\\ntara-saibaibange\\nexpert-judge\\n法官\\n\\n#e Kaku says the judge is a very important person.\\n#c Kaku 說法官是很重要的人 \\n#n turamulu 強調/尊重用，可以不加。kay tarasaibaibange 的 kay 可以換成 kavay/ku/ka。tala-sina-sinai 歌手；tala-bulu-bulu 老師\\n \\n23.\\nmalrasaku kane ku butulu madalamesu (kane ku butulu)\\nma-lrase-aku\\t\\t\\tkane\\tku\\tbutulu\\tma-dalame-su\\nCOND-dislike-1SG.NOM\\teat\\tOBL\\tpork\\tCOND-like-2SG.NOM\\n狀態-不喜歡-我.主格\\t\\t吃\\t斜格\\t豬肉\\t狀態-喜歡-你.主格\\n\\n#e I don’t like to eat pork. Do you like to eat pork?\\n#c 我不喜歡吃豬肉，你喜歡吃嗎?\\n#n bubutulane 肥肉\\n\\n=========================\\nNaturalistic data 自傳/故事\\nElicited data 採集語料'"
      ]
     },
     "execution_count": 76,
     "metadata": {},
     "output_type": "execute_result"
    }
   ],
   "source": [
    "gettext('elicitation.docx')"
   ]
  },
  {
   "cell_type": "code",
   "execution_count": 50,
   "metadata": {},
   "outputs": [
    {
     "name": "stdout",
     "output_type": "stream",
     "text": [
      "Filename: 20200429\n",
      "Language: Rukai\n",
      "Dialect: Budai Rukai\n",
      "Speaker: Legeane, 柯菊華, F, 1961/06\n",
      "Collected: 2020-04-29\n",
      "Revised:\n",
      "Transcribed by: 石晴方\n",
      "\n",
      "1.\n",
      "kay Kui wabai ki Balenge ku ngilralredrekeini ku bengelray\n",
      "kay\tKui\tw-a-bai\tki\tBalenge\tku\tngilra-lredreke-ini\tku\tbengelray\n",
      "this\tKui\tA-RES-give\tBalenge\tOBL\tself-plant-3SG.POSS\tOBL\tflower\n",
      "這個\tKui\t主-實現-給\tBalenge\t斜格\t自己--種-他.所有格\t斜格\t花\n",
      "\n",
      "#e This Kui gave Balenge the flower he planted.\n",
      "#c 這個 Kui 送 balenge 他自己種的花\n",
      "#n \n",
      "\n",
      "2.\n",
      "kay Kui wabai ki Balenge ku bengelray ku ngilralredrekeini\n",
      "kay\tKui\tw-a-bai\tki\tBalenge\tku\tbengelray\tku\t\n",
      "this\tKui\tA-RES-give\tBalenge\tOBL\tflower\t\tOBL\n",
      "這個\tKui\t主-實現-給\tBalenge\t斜格\t花\t\t斜格\n",
      "\n",
      "ngilra-lredreke-ini \n",
      "self-plant-3SG.POSS\n",
      "自己--種-他.所有格\n",
      "\n",
      "#e This Kui gave Balenge the flower he planted.\n",
      "#c 這個 Kui 送 balenge 他自己種的花\n",
      "#n 語序調換\n",
      "\n",
      "3.\n",
      "ngialralrumaiaku\n",
      "ngialra-lrumai-aku\n",
      "self-hit-1SG.NOM\n",
      "自己-打-我.主格\n",
      "\n",
      "#e I hit myself.\n",
      "#c自己打自己\n",
      "#n\n",
      "\n",
      "4.\n",
      "kay alualu ki Lavakaw makakalra ki Muni\n",
      "kay\talualu\tki\tLavakaw\tma-kalra-kalra\t\tki\tMuni\n",
      "this\tcandy\tGEN\tLavakaw\tmany-RED-many\tOBL\tMuni\n",
      "這個\t糖果\t屬格\tLavakaw\t多-重複-多\t\t斜格\tMuni\n",
      "\n",
      "#e Lavakaw’s candies are more than Muni’s.\n",
      "#c Lavakaw 的糖果比 Muni 的還多\n",
      "#n Makarla 多；Makakarla 更多\n",
      "\n",
      "5.\n",
      "waelrebe ka lrawlrawdru anikamani waelrebe ka sinsi\n",
      "w-a-elrebe\tka\tlrawlrawdru\tanikamani\tw-a-elrebe\tka\tsinsi\n",
      "A-RES-close\tOBL\tdoor\t\tbecause\t\tA-RES-close\tOBL\tteacher\n",
      "主-實現-關\t斜格\t門\t\t因為\t\t主-實現-關\t斜格\t老師\n",
      "\n",
      "#e The door was closed because the teacher closed the door.\n",
      "#c 門關上了，因為老師關上了門\n",
      "#n\n",
      "\n",
      "6.\n",
      "ngiaelrebe ka lrawlrawdru anikamani waelrebe ka sinsi\n",
      "ngi-a-elrebe\t\tka\tlrawlrawdru\tanikamani\tw-a-elrebe\tka\tsinsi\n",
      "self-RES-close\t\tOBL\tdoor\t\tbecause\t\tA-RES-close\tOBL\tteacher\n",
      "自己-實現-關\t\t斜格\t門\t\t因為\t\t主-實現-關\t斜格\t老師\n",
      "\n",
      "#e The door was closed by itself because the teacher closed the door.\n",
      "#c 門自己關了，因為老師關上了門\n",
      "#n\n",
      "\n",
      "7.\n",
      "aisi lu kainaw pangimia kay fulici lrikiemengaku\n",
      "aisi\tlu\tkainaw\t\tpangimia\tkay\thulici\tlri-ki-emenge-aku\n",
      "if\tif\tdoes not\tobey\t\tthis\tlaw\tFUT-PASS-confine-1SG.NOM\n",
      "如果\t如果\t不行\t\t遵守\t\t這個\t法律\t未來-被動-關-我.主格\n",
      "\n",
      "#e If I did not obey this law, I will be confined.\n",
      "#c 如果我沒有遵守這個法律，我就會被關\n",
      "#n emengenga 把動物/人關在家裡，不同於關門窗的關；kai 與 naw 都是「不行」；此句的 kay 可以換成 ki，但不能換成 ku \n",
      "\n",
      "8.\n",
      "matha senasenay kikay kikay\n",
      "matha\tsenay-senay\tkikay\tkikay\n",
      "do not\tRED-sing\there\there\n",
      "不要 \t重複-唱歌\t這邊\t這邊\n",
      "\n",
      "#e Do not sing here.\n",
      "#c 不要在這裡唱歌 \n",
      "#n wasenasenay 正在唱歌；* kainaw senasenay kikay kikay\n",
      "\n",
      "9.\n",
      "wasenasenay kay lasitu kikay kikay\n",
      "w-a-senay-senay\tkay\tla-situ\t\tkikay\tkikay\n",
      "A-RES-RED-sing\tthese\tPL-student\there\there\n",
      "主-實現-重複-唱歌\t這些\t複數-學生\t這裡\t這裡\n",
      "\n",
      "#e These students are singing here.\n",
      "#c 這些學生們都在這裡唱歌\n",
      "#n\t\n",
      "\n",
      "10.\n",
      "kay Laucu maelrelrengenga ki lapapalraini\n",
      "kay\tLaucu\tma-elrenge-elrenge-nga\t\tki\tla-papalra-ini\n",
      "this\tLaucu\tCOND-RED-tall-COMPL\tOBL\tPL-peer-3SG.POSS\n",
      "這個\tLaucu\t狀態-重複-高-完成\t\t斜格\t複數-同伴-他.所有格\n",
      "\n",
      "#e This Laucu is the tallest person among his peers.\n",
      "#c Laucu 是班上最高的人\n",
      "#n maelrenge 很高；ma-elr-elrenge 最高；-nga 確定他最高。阿美語和魯凱語會用拉長音 (lengthening) 表強調，因此此處的 elrenge 第二音節會拉長。\n",
      "\n",
      "11.\n",
      "luiya kay Laucu lrikamaelrelrenga ki lapapalraini \n",
      "luiya\t\tkay\tLaucu\tlrika-ma-elrenge-elrenge-nga\t\tki\tla-papalra-ini\n",
      "tomorrow\tthis\tLaucu\tFUT-COND-RED-tall-COMPL\t\tOBL\tPL-peer-3SG.POSS\n",
      "明天\t\t這個\tLaucu\t未來-狀態-重複-高-完成\t\t斜格\t複數-同伴-他.所有格\n",
      "\n",
      "#e This Laucu will be the tallest person among his peers.\n",
      "#c 明天這 Laucu 將會比他所有同學更高\n",
      "#n\n",
      "\n",
      "12.\n",
      "kay Laucu ludrelane lukabibilrili lrikamaelrelrenga ki lapapalraini\n",
      "kay\tLaucu\tludrelane\tluka-bibilrili\tlrika-ma-elrenge-elrenge-nga\t\tki\t\n",
      "this\tLaucu\tseem\t\twhen-future\tFUT-COND-RED-tall-COMPL\t\tOBL\n",
      "這個\tLaucu\t看起來\t\t當-未來\t未來-狀態-重複-高-完成\t\t斜格\n",
      "\n",
      "la-papalra-ini\n",
      "PL-peer-3SG.POSS\n",
      "複數-同伴-他.所有格\n",
      "\n",
      "#e It seems that Laucu will be the tallest person among his peers.\n",
      "#c Laucu 看起來以後會是班上最高的那位\n",
      "#n lrikaamani 將來一定 (一定會選上/一定會娶到她) liaamani 將來應該\n",
      "\n",
      "13.\n",
      "wapacai ka Laucu anikamani kiapapacai ki Tanebake\n",
      "w-a-pacai\tka\tLaucu\tanikamani\tkia-pacai-pacai\t\tki\tTanebake\n",
      "A-RES-die\tOBL\tLaucu\tbecause\t\tPASS-RED-die\t\tOBL\tTanebake\n",
      "主-實現-死\t斜格\tLaucu\t因為\t\t被動-重複-死\t\t斜格\tTanebake\n",
      "\n",
      "#e Laucu died because he was killed by Tanebake.\n",
      "#c Laucu 死了，因為被 Tanebake 打死\n",
      "#n \n",
      "\n",
      "14.\n",
      "wapacainga ka Laucu anikamani kiapapacai ki Tanebake\n",
      "w-a-pacai-nga\t\tka\tLaucu\tanikamani\tkia-pa-pacai\t\tki\tTanebake\n",
      "A-RES-die-COMPL\tOBL\tLaucu\tbecause\t\tPASS-RED-die\t\tOBL\tTanebake\n",
      "主-實現-死-完成\t斜格\tLaucu\t因為\t\t被動-重複-死\t\t斜格\tTanebake\n",
      "\n",
      "#e Laucu had died because he was killed by Tanebake.\n",
      "#c Laucu 死了，因為被 Tanebake 打死\n",
      "#n -nga 強調已經死了；ngiapapacai 自殺\n",
      "\n",
      "15.\n",
      "ngiapapacai ka Laucu\n",
      "ngia-pacai-pacai\tka\tLaucu\n",
      "self-RED-die\t\tNOM\tLaucu\n",
      "自己-重複-死\t\t主格\tLaucu\n",
      "\n",
      "#e Laucu hit himself to death.\n",
      "#c Laucu 自己打死自己\n",
      "#n\n",
      "\n",
      "16.\n",
      "ngiakakamani ngia-pa-pacai kay laucu \n",
      "ngiakakamani\t\tngia-pacai-pacai\tkay\tLaucu \n",
      "willingly\t\tself-RED-die\t\tthis\tLaucu\n",
      "自願\t\t\t自己-重複-死\t\t這個\tLaucu\n",
      "\n",
      "#e Laucu hit himself to death willingly.\n",
      "#c Laucu 自己自願打死自己\n",
      "#n\n",
      "\n",
      "17.\n",
      "ngiakakamani kay Laucu ngiapapacai \n",
      "ngiakakamani\t\tkay\tLaucu\tngia-pa-pacai\n",
      "willingly\t\tthis\tLaucu\tself-RED-die\n",
      "自願\t\t\t這個\tLaucu\t自己-重複-死\n",
      "\n",
      "#e Laucu hit himself to death willingly.\n",
      "#c Laucu 自己自願打死自己\n",
      "#n\n",
      "\n",
      "18.\n",
      "kay Laucu ngiapapacai ngiakakamani\n",
      "kay\tLaucu\tngia-pacai-pacai\tngiakakamani\n",
      "this\tLaucu\tself-RED-die\t\twillingly\n",
      "這個\tLaucu\t自己-重複-打\t\t自願\n",
      "\n",
      "#e Laucu hit himself to death willingly.\n",
      "#c Laucu 自己自願打死自己\n",
      "#n\n",
      "\n",
      "19.\n",
      "kainaw wathingale anipacai ka Laucu\n",
      "kainaw\t\tw-a-thingale\tani-pacai\tka\tLaucu\n",
      "do not\t\tA-RES-know\twhy-die\tNOM\tLaucu\n",
      "不\t\t主-實現-知道\t為什麼-死\t主格\tLaucu\n",
      "\n",
      "#e Do not know why Laucu dies.\n",
      "#c 不知道 Laucu 怎麼死了\n",
      "#n\n",
      "\n",
      "20.\n",
      "kaisu wathingale anipacai kay Laucu \n",
      "kai-su\t\t\tw-a-thingale\tani-pacai\tkay\tLaucu\n",
      "do not-2SG.NOM\tA-RES-know\twhy-die\tthis\tLaucu\n",
      "不-你.主格\t\t主-實現-知道\t為什麼-死\t這個\tLaucu\n",
      "\n",
      "#e You do not know why Laucu dies.\n",
      "#c 你不知道 Laucu 怎麼死了\n",
      "#n\n",
      "\n",
      "21.\n",
      "kaisu wathingale kay Laucu anipacai\n",
      "kai-su\t\t\tw-a-thingale\tkay\tLaucu\tani-pacai\n",
      "do not-2SG.NOM\tA-RES-know\tthis\tLaucu\twhy-die\n",
      "不-你.主格\t\t主-實現-知道\t這個\tLaucu\t為什麼-死\n",
      "\n",
      "#e You do not know why Laucu dies.\n",
      "#c 你不知道 Laucu 怎麼死了\n",
      "#n\n",
      "\n",
      "22.\n",
      "kay Kaku amiya-kay makucingalre turamuru kay tarasaibaibange\n",
      "kay\tKaku\tamiya-kay\tma-kucingalre\t\tturamuru\t\n",
      "this\tKaku\tsay-this\t\tvery-important\t\tvery\n",
      "這個\tKaku\t說-這個\t非常-重要\t\t非常\n",
      "\n",
      "tara-saibaibange\n",
      "expert-judge\n",
      "法官\n",
      "\n",
      "#e Kaku says the judge is a very important person.\n",
      "#c Kaku 說法官是很重要的人 \n",
      "#n turamulu 強調/尊重用，可以不加。kay tarasaibaibange 的 kay 可以換成 kavay/ku/ka。tala-sina-sinai 歌手；tala-bulu-bulu 老師\n",
      " \n",
      "23.\n",
      "malrasaku kane ku butulu madalamesu (kane ku butulu)\n",
      "ma-lrase-aku\t\t\tkane\tku\tbutulu\tma-dalame-su\n",
      "COND-dislike-1SG.NOM\teat\tOBL\tpork\tCOND-like-2SG.NOM\n",
      "狀態-不喜歡-我.主格\t\t吃\t斜格\t豬肉\t狀態-喜歡-你.主格\n",
      "\n",
      "#e I don’t like to eat pork. Do you like to eat pork?\n",
      "#c 我不喜歡吃豬肉，你喜歡吃嗎?\n",
      "#n bubutulane 肥肉\n",
      "\n",
      "=========================\n",
      "Naturalistic data 自傳/故事\n",
      "Elicited data 採集語料\n"
     ]
    }
   ],
   "source": [
    "for para in doc.paragraphs:\n",
    "    print(para.text)"
   ]
  },
  {
   "cell_type": "code",
   "execution_count": 9,
   "metadata": {},
   "outputs": [
    {
     "data": {
      "text/plain": [
       "<docx.text.paragraph.Paragraph at 0x17df8bf4308>"
      ]
     },
     "execution_count": 9,
     "metadata": {},
     "output_type": "execute_result"
    }
   ],
   "source": [
    "doc2 = docx.Document()\n",
    "doc2.add_paragraph('This is some text.')"
   ]
  },
  {
   "cell_type": "code",
   "execution_count": 10,
   "metadata": {},
   "outputs": [],
   "source": [
    "paraObject = doc2.add_paragraph('I love python.')"
   ]
  },
  {
   "cell_type": "code",
   "execution_count": 11,
   "metadata": {},
   "outputs": [
    {
     "data": {
      "text/plain": [
       "<docx.text.run.Run at 0x17df7c0e288>"
      ]
     },
     "execution_count": 11,
     "metadata": {},
     "output_type": "execute_result"
    }
   ],
   "source": [
    "paraObject.add_run('I am continuing on this paragraph.')"
   ]
  },
  {
   "cell_type": "code",
   "execution_count": 12,
   "metadata": {},
   "outputs": [
    {
     "data": {
      "text/plain": [
       "<docx.shape.InlineShape at 0x17df8bfa088>"
      ]
     },
     "execution_count": 12,
     "metadata": {},
     "output_type": "execute_result"
    }
   ],
   "source": [
    "doc2.add_picture('bunny.jpg', width = docx.shared.Inches(4), height = docx.shared.Inches(3))"
   ]
  },
  {
   "cell_type": "code",
   "execution_count": 13,
   "metadata": {},
   "outputs": [],
   "source": [
    "doc2.save('new.docx')"
   ]
  },
  {
   "cell_type": "code",
   "execution_count": 20,
   "metadata": {},
   "outputs": [
    {
     "data": {
      "text/plain": [
       "'defghi'"
      ]
     },
     "execution_count": 20,
     "metadata": {},
     "output_type": "execute_result"
    }
   ],
   "source": [
    "import re\n",
    "m = re.search('(?<=abc)defghi', 'abcdefghijk')\n",
    "m.group(0)"
   ]
  },
  {
   "cell_type": "code",
   "execution_count": 27,
   "metadata": {},
   "outputs": [],
   "source": [
    "pattern = '(?<=abc)defghi'\n",
    "string = 'abcdefghijk'\n",
    "prog = re.compile(pattern)\n",
    "result = prog.match(string)\n",
    "result"
   ]
  },
  {
   "cell_type": "code",
   "execution_count": 29,
   "metadata": {},
   "outputs": [],
   "source": [
    "result = re.match(pattern, string)"
   ]
  },
  {
   "cell_type": "markdown",
   "metadata": {},
   "source": [
    "在 docx 裡面用 regex 查找資料   \n",
    "https://stackoverflow.com/questions/60682266/how-to-use-regular-expressions-with-python-docx"
   ]
  },
  {
   "cell_type": "code",
   "execution_count": 74,
   "metadata": {},
   "outputs": [
    {
     "name": "stdout",
     "output_type": "stream",
     "text": [
      "kay Kui wabai ki Balenge ku ngilralredrekeini ku bengelray\n",
      "kay\tKui\tw-a-bai\tki\tBalenge\tku\tngilra-lredreke-ini\tku\tbengelray\n",
      "kay Kui wabai ki Balenge ku bengelray ku ngilralredrekeini\n",
      "kay\tKui\tw-a-bai\tki\tBalenge\tku\tbengelray\tku\t\n",
      "kay alualu ki Lavakaw makakalra ki Muni\n",
      "kay\talualu\tki\tLavakaw\tma-kalra-kalra\t\tki\tMuni\n",
      "kay Laucu maelrelrengenga ki lapapalraini\n",
      "kay\tLaucu\tma-elrenge-elrenge-nga\t\tki\tla-papalra-ini\n",
      "kay Laucu ludrelane lukabibilrili lrikamaelrelrenga ki lapapalraini\n",
      "kay\tLaucu\tludrelane\tluka-bibilrili\tlrika-ma-elrenge-elrenge-nga\t\tki\t\n",
      "kay Laucu ngiapapacai ngiakakamani\n",
      "kay\tLaucu\tngia-pacai-pacai\tngiakakamani\n",
      "kay Kaku amiya-kay makucingalre turamuru kay tarasaibaibange\n",
      "kay\tKaku\tamiya-kay\tma-kucingalre\t\tturamuru\t\n"
     ]
    }
   ],
   "source": [
    "import re\n",
    "from docx import Document\n",
    "doc = Document('elicitation.docx')\n",
    "regex = re.compile(r\"^kay\")\n",
    "\n",
    "for paragraph in doc.paragraphs:\n",
    "    if regex.search(paragraph.text):\n",
    "        print(paragraph.text)"
   ]
  },
  {
   "cell_type": "code",
   "execution_count": null,
   "metadata": {},
   "outputs": [],
   "source": []
  }
 ],
 "metadata": {
  "kernelspec": {
   "display_name": "Python 3",
   "language": "python",
   "name": "python3"
  },
  "language_info": {
   "codemirror_mode": {
    "name": "ipython",
    "version": 3
   },
   "file_extension": ".py",
   "mimetype": "text/x-python",
   "name": "python",
   "nbconvert_exporter": "python",
   "pygments_lexer": "ipython3",
   "version": "3.7.4"
  }
 },
 "nbformat": 4,
 "nbformat_minor": 2
}
